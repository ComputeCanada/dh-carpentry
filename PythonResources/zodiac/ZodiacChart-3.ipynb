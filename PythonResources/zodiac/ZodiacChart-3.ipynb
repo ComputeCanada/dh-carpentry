{
 "cells": [
  {
   "cell_type": "code",
   "execution_count": 2,
   "metadata": {
    "collapsed": false
   },
   "outputs": [
    {
     "name": "stdout",
     "output_type": "stream",
     "text": [
      "['Rat\\n', 'Ox\\n', 'Tiger\\n', 'Rabbit\\n', 'Dragon\\n', 'Snake\\n', 'Horse\\n', 'Goat\\n', 'Monkey\\n', 'Rooster\\n', 'Dog\\n', 'Pig\\n']\n",
      "What year were you born: 1982\n",
      "You are a  Dog\n",
      "\n"
     ]
    },
    {
     "data": {
      "image/png": "[encoded data removed]",
      "text/plain": [
       "<matplotlib.figure.Figure at 0x103378208>"
      ]
     },
     "metadata": {},
     "output_type": "display_data"
    }
   ],
   "source": [
    "# Now that tracking is working we can turn on the chart\n",
    "\n",
    "#Imports\n",
    "import os.path\n",
    "import json\n",
    "# import the plotting library\n",
    "import matplotlib\n",
    "%matplotlib inline\n",
    "\n",
    "#Open the zodiac file\n",
    "zodiacText = open('zodiacDescriptions.txt')\n",
    "#for line in zodiacText:\n",
    "#    print(line)\n",
    "\n",
    "#Load into a list\n",
    "zodiacList = []\n",
    "for line in zodiacText:\n",
    "    zodiacList.append(line)\n",
    "\n",
    "print(zodiacList)\n",
    "\n",
    "zodiacText.close()\n",
    "\n",
    "# check if a file with the right name exists\n",
    "# if it does then open the file with the counts of zodiac characters (read-only) and initialize a dictionary with its JSON contents\n",
    "# close the file\n",
    "# if it doesn't then initialize the dictionary from scratch. No need to specify members.  We'll add them as they come up.\n",
    "\n",
    "if os.path.exists('.zodiacCounts.json'):\n",
    "    #counts = {}\n",
    "    with open('.zodiacCounts.json','r') as infile:\n",
    "        counts = json.load(infile)\n",
    "else:\n",
    "    counts = {}\n",
    "\n",
    "#Ask user for input (year)\n",
    "try:\n",
    "    birthYear=int(input('What year were you born: '))\n",
    "    listIndex = (birthYear - 4) % 12\n",
    "    #print(listIndex)\n",
    "\n",
    "    #Return character\n",
    "    print(\"You are a \", zodiacList[listIndex])\n",
    "\n",
    "    # INCREMENT CHARACTER VALUE IN DICTIONARY\n",
    "    # Check if character is in dictionary\n",
    "    # Add if it isn't\n",
    "    # Increment if it is\n",
    "    if zodiacList[listIndex] in counts:\n",
    "        counts[zodiacList[listIndex]] += 1\n",
    "    else:\n",
    "        counts[zodiacList[listIndex]] = 1\n",
    "    \n",
    "    # Print the current version of the chart\n",
    "    import matplotlib.pyplot as plt\n",
    "\n",
    "    plt.bar(range(len(counts)), counts.values(), align='center')\n",
    "    plt.xticks(range(len(counts)), list(counts.keys()))\n",
    "\n",
    "    plt.show()\n",
    "    \n",
    "except ValueError:\n",
    "    print(\"You did not enter a number\")\n",
    "\n",
    "#Repeat\n",
    "\n",
    "# Open file if it exists or create it \n",
    "# Write Dictionary to JSON\n",
    "# print(counts)\n",
    "with open('.zodiacCounts.json', 'w') as outfile:\n",
    "    json.dump(counts, outfile)"
   ]
  },
  {
   "cell_type": "code",
   "execution_count": null,
   "metadata": {
    "collapsed": true
   },
   "outputs": [],
   "source": []
  }
 ],
 "metadata": {
  "kernelspec": {
   "display_name": "Python 3",
   "language": "python",
   "name": "python3"
  },
  "language_info": {
   "codemirror_mode": {
    "name": "ipython",
    "version": 3
   },
   "file_extension": ".py",
   "mimetype": "text/x-python",
   "name": "python",
   "nbconvert_exporter": "python",
   "pygments_lexer": "ipython3",
   "version": "3.5.1"
  }
 },
 "nbformat": 4,
 "nbformat_minor": 0
}
