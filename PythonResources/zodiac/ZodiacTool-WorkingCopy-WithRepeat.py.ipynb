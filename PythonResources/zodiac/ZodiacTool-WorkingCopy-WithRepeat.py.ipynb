{
 "cells": [
  {
   "cell_type": "markdown",
   "metadata": {},
   "source": [
    "This is the final copy of the file as John produced it at the front of the screen."
   ]
  },
  {
   "cell_type": "code",
   "execution_count": 4,
   "metadata": {
    "collapsed": false
   },
   "outputs": [
    {
     "name": "stdout",
     "output_type": "stream",
     "text": [
      "What year were you born? aoeuhtuonht crgfaoue \n",
      "You did not provide a year in the form of an integer.\n"
     ]
    }
   ],
   "source": [
    "# There should be description here.\n",
    "\n",
    "# ZodiacSetup will do all the opening, loading, and closing of files/data\n",
    "# It will return ZodiacListTemp\n",
    "def ZodiacSetup():\n",
    "    # Open the zodiac descriptions file\n",
    "    ZodiacText = open('zodiacDescriptions.txt','r')\n",
    "\n",
    "    # Read the file.  We are going to make a list with each line of the file\n",
    "    # as a list item.\n",
    "    ZodiacListTemp = []\n",
    "    for animal in ZodiacText:\n",
    "        if animal != '\\n':\n",
    "            ZodiacListTemp.append(animal)\n",
    "\n",
    "    # Close the file as soon as we are done with it.\n",
    "    # Although in this case the end would be ok too.\n",
    "    ZodiacText.close()\n",
    "    \n",
    "    return ZodiacListTemp\n",
    "        \n",
    "# ZodiacCalculation will collect a birth year and determine the Chinese\n",
    "# zodiac animal and then display it.  With error trapping.  \n",
    "# It will return the birthYear\n",
    "def ZodiacCalculation():\n",
    "    # Ask the user for input\n",
    "    # We're just going to assign a variable for moment.  Come back later.\n",
    "    birthYear = input(\"What year were you born? \")\n",
    "    try:\n",
    "        birthYear = int(birthYear)\n",
    "        # Do some fancy figuring stuff out (little bit of math)\n",
    "        # John lied to us and gave us the wrong list\n",
    "        # To fix this we need to offset birthYear by 4\n",
    "        zodiacIndex = (birthYear - 4) % 12\n",
    "        # Tell user the result\n",
    "        print(\"Your Chinese Zodiac Animal is a\", ZodiacList[zodiacIndex])\n",
    "    \n",
    "    except ValueError:\n",
    "        print(\"You did not provide a year in the form of an integer.\")\n",
    "        \n",
    "    return birthYear\n",
    "    \n",
    "# Repeat\n",
    "ZodiacList = ZodiacSetup()\n",
    "\n",
    "birthYear = 0\n",
    "while type(birthYear) is int:\n",
    "    birthYear = ZodiacCalculation()\n"
   ]
  },
  {
   "cell_type": "code",
   "execution_count": null,
   "metadata": {
    "collapsed": true
   },
   "outputs": [],
   "source": []
  }
 ],
 "metadata": {
  "kernelspec": {
   "display_name": "Python 3",
   "language": "python",
   "name": "python3"
  },
  "language_info": {
   "codemirror_mode": {
    "name": "ipython",
    "version": 3
   },
   "file_extension": ".py",
   "mimetype": "text/x-python",
   "name": "python",
   "nbconvert_exporter": "python",
   "pygments_lexer": "ipython3",
   "version": "3.4.3"
  }
 },
 "nbformat": 4,
 "nbformat_minor": 0
}
