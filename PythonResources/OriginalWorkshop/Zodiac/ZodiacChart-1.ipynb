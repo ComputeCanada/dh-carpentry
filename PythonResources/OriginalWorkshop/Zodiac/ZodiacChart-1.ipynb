{
 "cells": [
  {
   "cell_type": "code",
   "execution_count": 3,
   "metadata": {
    "collapsed": false
   },
   "outputs": [
    {
     "name": "stdout",
     "output_type": "stream",
     "text": [
      "['Rat\\n', 'Ox\\n', 'Tiger\\n', 'Rabbit\\n', 'Dragon\\n', 'Snake\\n', 'Horse\\n', 'Goat\\n', 'Monkey\\n', 'Rooster\\n', 'Dog\\n', 'Pig\\n']\n",
      "What year were you born: 12\n",
      "8\n",
      "You are a  Monkey\n",
      "\n"
     ]
    }
   ],
   "source": [
    "#Testing the previous step showed the ability of users to break the program (Why we didn't allow user input immediately).  Here we add in error trapping to catch this.\n",
    "#In this version we also begin adding the ability to read from a file that has counts of zodiac characters so far, print a bar graph of all the characters seen by the program so far after someone is told their character, and then write the new data to a file.\n",
    "\n",
    "#Open the zodiac file\n",
    "\n",
    "zodiacText = open('zodiacDescriptions.txt')\n",
    "#for line in zodiacText:\n",
    "#    print(line)\n",
    "\n",
    "#Load into a list\n",
    "zodiacList = []\n",
    "for line in zodiacText:\n",
    "    zodiacList.append(line)\n",
    "\n",
    "print(zodiacList)\n",
    "\n",
    "zodiacText.close()\n",
    "\n",
    "# check if a file with the right name exists\n",
    "# if it does then open the file with the counts of zodiac characters (read-only) and initialize a dictionary with its JSON contents\n",
    "# close the file\n",
    "# if it doesn't then initialize the dictionary from scratch. No need to specify members.  We'll add them as they come up.\n",
    "\n",
    "\n",
    "#Ask user for input (year)\n",
    "try:\n",
    "    birthYear=int(input('What year were you born: '))\n",
    "    listIndex = (birthYear - 4) % 12\n",
    "    print(listIndex)\n",
    "\n",
    "    #Return character\n",
    "    print(\"You are a \", zodiacList[listIndex])\n",
    "\n",
    "    # INCREMENT CHARACTER VALUE IN DICTIONARY\n",
    "    # Check if character is in dictionary\n",
    "    # Add if it isn't\n",
    "    # Increment if it is\n",
    "    \n",
    "except ValueError:\n",
    "    print(\"You did not enter a number\")\n",
    "\n",
    "#Repeat\n",
    "\n",
    "# Open file if it exists or create it \n",
    "# Write Dictionary to JSON\n"
   ]
  },
  {
   "cell_type": "code",
   "execution_count": null,
   "metadata": {
    "collapsed": true
   },
   "outputs": [],
   "source": []
  }
 ],
 "metadata": {
  "kernelspec": {
   "display_name": "Python 3",
   "language": "python",
   "name": "python3"
  },
  "language_info": {
   "codemirror_mode": {
    "name": "ipython",
    "version": 3
   },
   "file_extension": ".py",
   "mimetype": "text/x-python",
   "name": "python",
   "nbconvert_exporter": "python",
   "pygments_lexer": "ipython3",
   "version": "3.5.1"
  }
 },
 "nbformat": 4,
 "nbformat_minor": 0
}
