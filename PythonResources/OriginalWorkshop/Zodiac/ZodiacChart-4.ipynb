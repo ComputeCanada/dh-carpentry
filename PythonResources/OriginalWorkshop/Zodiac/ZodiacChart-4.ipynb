{
 "cells": [
  {
   "cell_type": "code",
   "execution_count": null,
   "metadata": {
    "collapsed": false
   },
   "outputs": [
    {
     "name": "stdout",
     "output_type": "stream",
     "text": [
      "{'Rat\\n': 2, 'Ox\\n': 1, 'Pig\\n': 2, 'Dragon\\n': 2, 'Tiger\\n': 1}\n",
      "{'Rat\\n': 2, 'Ox\\n': 1, 'Pig\\n': 2, 'Dragon\\n': 2, 'Tiger\\n': 1}\n",
      "Bam\n",
      "What year were you born: 1976\n",
      "You are a  Dragon\n",
      "\n",
      "Dragon\n",
      "\n",
      "{'Rat\\n': 2, 'Ox\\n': 1, 'Pig\\n': 2, 'Dragon\\n': 2, 'Tiger\\n': 1}\n"
     ]
    },
    {
     "data": {
      "image/png": "[encoded data removed]",
      "text/plain": [
       "<matplotlib.figure.Figure at 0x108ab3208>"
      ]
     },
     "metadata": {},
     "output_type": "display_data"
    },
    {
     "name": "stdout",
     "output_type": "stream",
     "text": [
      "Bam\n",
      "What year were you born: 1975\n",
      "You are a  Rabbit\n",
      "\n",
      "Rabbit\n",
      "\n",
      "{'Rat\\n': 2, 'Ox\\n': 1, 'Pig\\n': 2, 'Dragon\\n': 3, 'Tiger\\n': 1}\n"
     ]
    },
    {
     "data": {
      "image/png": "[encoded data removed]",
      "text/plain": [
       "<matplotlib.figure.Figure at 0x10b6fab70>"
      ]
     },
     "metadata": {},
     "output_type": "display_data"
    },
    {
     "name": "stdout",
     "output_type": "stream",
     "text": [
      "Bam\n"
     ]
    }
   ],
   "source": [
    "# Now we'll set up the repeat by creating functions and a while loop\n",
    "\n",
    "#Imports\n",
    "import os.path\n",
    "import json\n",
    "# import the plotting library\n",
    "import matplotlib.pyplot as plt\n",
    "%matplotlib inline #special iPython command to stop charts from opening in a new window.\n",
    "\n",
    "# this function loads the descriptions and returns the content\n",
    "def loadDesc():\n",
    "    #Open the zodiac file\n",
    "    zodiacText = open('zodiacDescriptions.txt')\n",
    "    #for line in zodiacText:\n",
    "    #    print(line)\n",
    "\n",
    "    #Load into a list\n",
    "    zodiacList = []\n",
    "    for line in zodiacText:\n",
    "        zodiacList.append(line)\n",
    "\n",
    "    #print(zodiacList)\n",
    "\n",
    "    zodiacText.close()\n",
    "    \n",
    "    return zodiacList\n",
    "\n",
    "# this function loads the counts and returns their values\n",
    "def loadCounts():\n",
    "    # check if a file with the right name exists\n",
    "    # if it does then open the file with the counts of zodiac characters (read-only) and initialize a dictionary with its JSON contents\n",
    "    # close the file\n",
    "    # if it doesn't then initialize the dictionary from scratch. No need to specify members.  We'll add them as they come up.\n",
    "\n",
    "    if os.path.exists('.zodiacCounts.json'):\n",
    "        #counts = {}\n",
    "        with open('.zodiacCounts.json','r') as infile:\n",
    "            counts = json.load(infile)\n",
    "    else:\n",
    "        counts = {}\n",
    "    \n",
    "    print(counts)\n",
    "    return counts\n",
    "\n",
    "# this function carries out the core work of the program\n",
    "def core(birthYear, counts, zodiacList):\n",
    "    #Ask user for input (year)\n",
    "    try:\n",
    "        birthYear=int(input('What year were you born: '))\n",
    "        listIndex = (birthYear - 4) % 12\n",
    "        #print(listIndex)\n",
    "\n",
    "        #Return character\n",
    "        print(\"You are a \", zodiacList[listIndex])\n",
    "\n",
    "        # INCREMENT CHARACTER VALUE IN DICTIONARY\n",
    "        # Check if character is in dictionary\n",
    "        # Add if it isn't\n",
    "        # Increment if it is\n",
    "        print(zodiacList[listIndex])\n",
    "        print(counts)\n",
    "        if zodiacList[listIndex] in counts:\n",
    "            counts[zodiacList[listIndex]] += 1\n",
    "        else:\n",
    "            counts[zodiacList[listIndex]] = 1\n",
    "\n",
    "        # Print the current version of the chart\n",
    "        plt.bar(range(len(counts)), counts.values(), align='center')\n",
    "        plt.xticks(range(len(counts)), list(counts.keys()))\n",
    "\n",
    "        plt.show()\n",
    "        \n",
    "        return (birthYear, counts)\n",
    "\n",
    "    except ValueError:\n",
    "        print(\"You did not enter a number\")\n",
    "        \n",
    "        return (\"fail\", counts)\n",
    "\n",
    "#Repeat\n",
    "zodiacList = loadDesc()\n",
    "counts = loadCounts()\n",
    "\n",
    "birthYear = 0\n",
    "\n",
    "print(counts)\n",
    "while type(birthYear) is int:\n",
    "    birthYear, counts = core(birthYear, counts, zodiacList) \n",
    "\n",
    "# Open file if it exists or create it \n",
    "# Write Dictionary to JSON\n",
    "# print(counts)\n",
    "with open('.zodiacCounts.json', 'w') as outfile:\n",
    "    json.dump(counts, outfile)"
   ]
  },
  {
   "cell_type": "code",
   "execution_count": null,
   "metadata": {
    "collapsed": true
   },
   "outputs": [],
   "source": []
  }
 ],
 "metadata": {
  "kernelspec": {
   "display_name": "Python 3",
   "language": "python",
   "name": "python3"
  },
  "language_info": {
   "codemirror_mode": {
    "name": "ipython",
    "version": 3
   },
   "file_extension": ".py",
   "mimetype": "text/x-python",
   "name": "python",
   "nbconvert_exporter": "python",
   "pygments_lexer": "ipython3",
   "version": "3.5.1"
  }
 },
 "nbformat": 4,
 "nbformat_minor": 0
}
