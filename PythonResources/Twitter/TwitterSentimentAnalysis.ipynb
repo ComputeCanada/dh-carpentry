{
 "cells": [
  {
   "cell_type": "markdown",
   "metadata": {},
   "source": [
    "Importing [textblob](https://pypi.python.org/pypi/textblob) will be a problem that has to be overcome.  We'll need to go to the commandline and either use `conda install textblob` _or_ `pip install textblob`.  But they might not have pip, in which case we'd need to install that.  Might seem like a pain but sooner or later they'll want a library that isn't included in Anaconda and they'll need to get it.  This side-step will further underscore the importance of the command line.\n",
    "\n",
    "*How are these installed on Windows?*\n",
    "\n",
    "Can feature the re-use of the preprocessor from the first chart.\n",
    "\n",
    "Also loading of imports at top (vs. in-line)\n",
    "\n",
    "There is converting of types here (Dictionary to string to blob) that will need to be checked and tested.\n",
    "\n",
    "Could turn this into a visualization showing the change is sentiment analysis over time."
   ]
  },
  {
   "cell_type": "code",
   "execution_count": 10,
   "metadata": {
    "collapsed": false
   },
   "outputs": [
    {
     "name": "stdout",
     "output_type": "stream",
     "text": [
      "0.06000000000000001\n",
      "<built-in method index of Sentiment object at 0x10c777f78>\n",
      "-0.34166666666666673\n",
      "<built-in method index of Sentiment object at 0x10f170480>\n"
     ]
    }
   ],
   "source": [
    "# with open('tweets-0001.json') as inFile:\n",
    "    \n",
    "from textblob import TextBlob\n",
    "\n",
    "text = '''\n",
    "The titular threat of The Blob has always struck me as the ultimate movie\n",
    "monster: an insatiably hungry, amoeba-like mass able to penetrate\n",
    "virtually any safeguard, capable of--as a doomed doctor chillingly\n",
    "describes it--\"assimilating flesh on contact.\n",
    "Snide comparisons to gelatin be damned, it's a concept with the most\n",
    "devastating of potential consequences, not unlike the grey goo scenario\n",
    "proposed by technological theorists fearful of\n",
    "artificial intelligence run rampant.\n",
    "'''\n",
    "\n",
    "blob = TextBlob(text)\n",
    "# print(blob.tags)           # [('The', 'DT'), ('titular', 'JJ'),\n",
    "                    #  ('threat', 'NN'), ('of', 'IN'), ...]\n",
    "\n",
    "# print(blob.noun_phrases)   # WordList(['titular threat', 'blob',\n",
    "                    #            'ultimate movie monster',\n",
    "                    #            'amoeba-like mass', ...])\n",
    "\n",
    "for sentence in blob.sentences:\n",
    "    print(sentence.sentiment.polarity)\n",
    "    print(sentence.sentiment.index)\n",
    "# 0.060\n",
    "# -0.341"
   ]
  },
  {
   "cell_type": "code",
   "execution_count": 49,
   "metadata": {
    "collapsed": false
   },
   "outputs": [
    {
     "data": {
      "image/png": "[encoded data removed]",
      "text/plain": [
       "<matplotlib.figure.Figure at 0x10df20ef0>"
      ]
     },
     "metadata": {},
     "output_type": "display_data"
    }
   ],
   "source": [
    "from datetime import datetime\n",
    "from textblob import TextBlob\n",
    "import json\n",
    "import re\n",
    "from nltk.corpus import stopwords\n",
    "import string\n",
    "import matplotlib.pyplot as plt\n",
    "%matplotlib inline\n",
    "from numpy.random import rand\n",
    "punctuation = list(string.punctuation)\n",
    "stop = stopwords.words('english') + punctuation + ['rt', 'via', 'RT', '…']\n",
    "\n",
    "#Instantiate a text pre-processor\n",
    " \n",
    "emoticons_str = r\"\"\"\n",
    "    (?:\n",
    "        [:=;] # Eyes\n",
    "        [oO\\-]? # Nose (optional)\n",
    "        [D\\)\\]\\(\\]/\\\\OpP] # Mouth\n",
    "    )\"\"\"\n",
    " \n",
    "regex_str = [\n",
    "    emoticons_str,\n",
    "    r'<[^>]+>', # HTML tags\n",
    "    r'(?:@[\\w_]+)', # @-mentions\n",
    "    r\"(?:\\#+[\\w_]+[\\w\\'_\\-]*[\\w_]+)\", # hash-tags\n",
    "    r'http[s]?://(?:[a-z]|[0-9]|[$-_@.&+]|[!*\\(\\),]|(?:%[0-9a-f][0-9a-f]))+', # URLs\n",
    " \n",
    "    r'(?:(?:\\d+,?)+(?:\\.?\\d+)?)', # numbers\n",
    "    r\"(?:[a-z][a-z'\\-_]+[a-z])\", # words with - and '\n",
    "    r'(?:[\\w_]+)', # other words\n",
    "    r'(?:\\S)' # anything else\n",
    "]\n",
    "    \n",
    "tokens_re = re.compile(r'('+'|'.join(regex_str)+')', re.VERBOSE | re.IGNORECASE)\n",
    "emoticon_re = re.compile(r'^'+emoticons_str+'$', re.VERBOSE | re.IGNORECASE)\n",
    " \n",
    "def tokenize(s):\n",
    "    return tokens_re.findall(s)\n",
    " \n",
    "def preprocess(s, lowercase=False):\n",
    "    tokens = tokenize(s)\n",
    "    if lowercase:\n",
    "        tokens = [token if emoticon_re.search(token) else token.lower() for token in tokens]\n",
    "    return tokens\n",
    "\n",
    "fname = 'tweets-0001.json'\n",
    "each_tweet=[]\n",
    "with open(fname, 'r') as f:\n",
    "    for line in f:\n",
    "        tweet = json.loads(line)\n",
    "        # Create a list with all the terms\n",
    "        # print(tweet['text'])\n",
    "        each_tweet.append([tweet['created_at'],tweet['text']])\n",
    "        # print(each_tweet)\n",
    "    points=[]\n",
    "    for tweet_deets in each_tweet:\n",
    "        #print(tweet_text)\n",
    "        blob = TextBlob(tweet_deets[1])\n",
    "        #print(blob)\n",
    "        #print(tweet_deets[0][:50], \" : \", blob.sentiment.polarity)\n",
    "        #Time directives taken from https://docs.python.org/2/library/datetime.html#strftime-and-strptime-behavior\n",
    "        #Date conversion from http://stackoverflow.com/questions/2265357/parse-date-string-and-change-format\n",
    "        tweet_date = datetime.strptime(tweet_deets[0], '%a %b %d %H:%M:%S %z %Y')\n",
    "        points.append([tweet_date,blob.sentiment.polarity])\n",
    "    \n",
    "    plt.scatter([item[0] for item in points] , [item[1] for item in points], c='red', alpha=0.3, edgecolors='none')\n",
    "\n",
    "# Drawing on http://matplotlib.org/examples/lines_bars_and_markers/scatter_with_legend.html \n",
    "# Also drawing on http://matplotlib.org/examples/pylab_examples/date_demo_rrule.html\n",
    "\"\"\"\n",
    "for color in ['red', 'green', 'blue']:\n",
    "    n = 750\n",
    "    x, y = rand(2, n)\n",
    "    scale = 200.0 * rand(n)\n",
    "    plt.scatter(x, blob.sentiment.polarity, c='blue',\n",
    "                alpha=0.3, edgecolors='none')\n",
    "\"\"\"\n",
    "#plt.legend()\n",
    "plt.grid(True)\n",
    "\n",
    "plt.show()"
   ]
  },
  {
   "cell_type": "code",
   "execution_count": null,
   "metadata": {
    "collapsed": true
   },
   "outputs": [],
   "source": [
    "#!/usr/bin/env python\n",
    "\"\"\"\n",
    "Show how to use an rrule instance to make a custom date ticker - here\n",
    "we put a tick mark on every 5th easter\n",
    "\n",
    "See https://moin.conectiva.com.br/DateUtil for help with rrules\n",
    "\"\"\"\n",
    "import matplotlib.pyplot as plt\n",
    "from matplotlib.dates import YEARLY, DateFormatter, rrulewrapper, RRuleLocator, drange\n",
    "import numpy as np\n",
    "import datetime\n",
    "\n",
    "# tick every 5th easter\n",
    "rule = rrulewrapper(YEARLY, byeaster=1, interval=5)\n",
    "loc = RRuleLocator(rule)\n",
    "formatter = DateFormatter('%m/%d/%y')\n",
    "date1 = datetime.date(1952, 1, 1)\n",
    "date2 = datetime.date(2004, 4, 12)\n",
    "delta = datetime.timedelta(days=100)\n",
    "\n",
    "dates = drange(date1, date2, delta)\n",
    "s = np.random.rand(len(dates))  # make up some random y values\n",
    "\n",
    "\n",
    "fig, ax = plt.subplots()\n",
    "plt.plot_date(dates, s)\n",
    "ax.xaxis.set_major_locator(loc)\n",
    "ax.xaxis.set_major_formatter(formatter)\n",
    "labels = ax.get_xticklabels()\n",
    "plt.setp(labels, rotation=30, fontsize=10)\n",
    "\n",
    "plt.show()"
   ]
  }
 ],
 "metadata": {
  "kernelspec": {
   "display_name": "Python 3",
   "language": "python",
   "name": "python3"
  },
  "language_info": {
   "codemirror_mode": {
    "name": "ipython",
    "version": 3
   },
   "file_extension": ".py",
   "mimetype": "text/x-python",
   "name": "python",
   "nbconvert_exporter": "python",
   "pygments_lexer": "ipython3",
   "version": "3.5.1"
  }
 },
 "nbformat": 4,
 "nbformat_minor": 0
}
