{
 "cells": [
  {
   "cell_type": "code",
   "execution_count": 56,
   "metadata": {
    "collapsed": false
   },
   "outputs": [
    {
     "name": "stdout",
     "output_type": "stream",
     "text": [
      "69\n",
      "#Donald #Trump, #Dzhokhar #Jahar Tsarnaev, &amp; #Tamerlan #Tsarnaev #Really #Suck https://t.co/m7ECXZyNvS https://t.co/5v90eJYMaP\n"
     ]
    }
   ],
   "source": [
    "#tweepy can be installed with 'pip install tweepy'\n",
    "import tweepy\n",
    "from tweepy import OAuthHandler\n",
    " \n",
    "consumer_key = 'JFBHHPK5gzvcgfcThd8dqMUj0'\n",
    "consumer_secret = 'eN9TdGABP2it31cR9NMSMPF6F30JyO2z6lwNyK4qRKet1eMPkM'\n",
    "access_token = '557113581-2Wm1eSGxPjMJAdxEosMynGp9zFpfLJAYt8K4c6qG'\n",
    "access_secret = 'cFx6oqZRVC9dmtgygWACVsXAClZLG0OjVyY1jxCk0JY8c'\n",
    " \n",
    "auth = OAuthHandler(consumer_key, consumer_secret)\n",
    "auth.set_access_token(access_token, access_secret)\n",
    " \n",
    "api = tweepy.API(auth)\n",
    "\n",
    "\"\"\"\n",
    "for status in tweepy.Cursor(api.home_timeline).items(10):\n",
    "    # Process a single status\n",
    "    print(status.text)\n",
    "    \n",
    "for friend in tweepy.Cursor(api.friends).items(10):\n",
    "    print(friend.name)\n",
    "\"\"\"\n",
    "\n",
    "results = api.search(\"#trump\", count=100) #100 is the max that the api search will return\n",
    "print(len(results))\n",
    "for item in results:\n",
    "    print(item.text)\n",
    "    break\n",
    "#for friend in tweepy.Cursor(api.search(\"#trump\")).items(10):\n",
    "#    print(friend.name)"
   ]
  },
  {
   "cell_type": "code",
   "execution_count": 61,
   "metadata": {
    "collapsed": false
   },
   "outputs": [
    {
     "name": "stdout",
     "output_type": "stream",
     "text": [
      "69\n"
     ]
    }
   ],
   "source": [
    "\"\"\"\"\n",
    ">>> status_list = api.user_timeline(user_handler)\n",
    ">>> status = status_list[0]\n",
    ">>> json_str = json.dumps(status._json)\n",
    "\"\"\"\n",
    "\n",
    "import json\n",
    "with open(\"trumpTweets.json\", \"w\") as f:\n",
    "    print(len(results))\n",
    "    for tweet in results:\n",
    "        f.write(json.dumps(tweet._json) + \"\\n\")\n",
    "        #json.dump(tweet._json,f)"
   ]
  },
  {
   "cell_type": "code",
   "execution_count": 41,
   "metadata": {
    "collapsed": false
   },
   "outputs": [
    {
     "ename": "ValueError",
     "evalue": "dictionary update sequence element #0 has length 1; 2 is required",
     "output_type": "error",
     "traceback": [
      "\u001b[0;31m---------------------------------------------------------------------------\u001b[0m",
      "\u001b[0;31mValueError\u001b[0m                                Traceback (most recent call last)",
      "\u001b[0;32m<ipython-input-41-1c8b933edd5f>\u001b[0m in \u001b[0;36m<module>\u001b[0;34m()\u001b[0m\n\u001b[1;32m      8\u001b[0m \u001b[0;32mwith\u001b[0m \u001b[0mopen\u001b[0m\u001b[0;34m(\u001b[0m\u001b[0;34m\"trumpTweets.json\"\u001b[0m\u001b[0;34m,\u001b[0m \u001b[0;34m\"w\"\u001b[0m\u001b[0;34m)\u001b[0m \u001b[0;32mas\u001b[0m \u001b[0mf\u001b[0m\u001b[0;34m:\u001b[0m\u001b[0;34m\u001b[0m\u001b[0m\n\u001b[1;32m      9\u001b[0m     \u001b[0;32mfor\u001b[0m \u001b[0mtweet\u001b[0m \u001b[0;32min\u001b[0m \u001b[0mresults\u001b[0m\u001b[0;34m:\u001b[0m\u001b[0;34m\u001b[0m\u001b[0m\n\u001b[0;32m---> 10\u001b[0;31m         \u001b[0mtweets\u001b[0m\u001b[0;34m.\u001b[0m\u001b[0mupdate\u001b[0m\u001b[0;34m(\u001b[0m\u001b[0mjson\u001b[0m\u001b[0;34m.\u001b[0m\u001b[0mdumps\u001b[0m\u001b[0;34m(\u001b[0m\u001b[0mtweet\u001b[0m\u001b[0;34m.\u001b[0m\u001b[0m_json\u001b[0m\u001b[0;34m)\u001b[0m\u001b[0;34m)\u001b[0m\u001b[0;34m\u001b[0m\u001b[0m\n\u001b[0m\u001b[1;32m     11\u001b[0m     \u001b[0mf\u001b[0m\u001b[0;34m.\u001b[0m\u001b[0mwrite\u001b[0m\u001b[0;34m(\u001b[0m\u001b[0mjson\u001b[0m\u001b[0;34m.\u001b[0m\u001b[0mdumps\u001b[0m\u001b[0;34m(\u001b[0m\u001b[0mtweets\u001b[0m\u001b[0;34m)\u001b[0m\u001b[0;34m)\u001b[0m\u001b[0;34m\u001b[0m\u001b[0m\n",
      "\u001b[0;31mValueError\u001b[0m: dictionary update sequence element #0 has length 1; 2 is required"
     ]
    }
   ],
   "source": [
    "\"\"\"\"\n",
    ">>> status_list = api.user_timeline(user_handler)\n",
    ">>> status = status_list[0]\n",
    ">>> json_str = json.dumps(status._json)\n",
    "\"\"\"\n",
    "tweets={}\n",
    "import json\n",
    "with open(\"trumpTweets.json\", \"w\") as f:\n",
    "    for tweet in results:\n",
    "        tweets.update(json.dumps(tweet._json))\n",
    "    f.write(json.dumps(tweets))"
   ]
  },
  {
   "cell_type": "code",
   "execution_count": 62,
   "metadata": {
    "collapsed": false
   },
   "outputs": [
    {
     "name": "stdout",
     "output_type": "stream",
     "text": [
      "<class 'dict_keys'>\n"
     ]
    }
   ],
   "source": [
    "tweets={}\n",
    "with open(\"trumpTweets.json\", \"r\") as f:\n",
    "    lines = f.readlines()\n",
    "    for tweet in lines:\n",
    "        tweets.update(json.loads(tweet))\n",
    "    print(type(tweets.keys()))"
   ]
  },
  {
   "cell_type": "code",
   "execution_count": 68,
   "metadata": {
    "collapsed": false
   },
   "outputs": [
    {
     "name": "stdout",
     "output_type": "stream",
     "text": [
      "@SpeakerRyan funding more for MUSLIM Refugee kids than America's kids. #NeverRyan\n",
      " https://t.co/YIp44k1aeB\n",
      "#INPrimary #Trump #IndianaPrimary\n"
     ]
    }
   ],
   "source": [
    "print(tweets[\"text\"])"
   ]
  },
  {
   "cell_type": "code",
   "execution_count": null,
   "metadata": {
    "collapsed": true
   },
   "outputs": [],
   "source": [
    "d1={1:2,3:4}; d2={5:6,7:9}; d3={10:8,13:22}\n",
    "d4 = {}\n",
    "for d in (d1, d2, d3): d4.update(d)\n",
    "print(d4)"
   ]
  },
  {
   "cell_type": "raw",
   "metadata": {},
   "source": []
  }
 ],
 "metadata": {
  "kernelspec": {
   "display_name": "Python 3",
   "language": "python",
   "name": "python3"
  },
  "language_info": {
   "codemirror_mode": {
    "name": "ipython",
    "version": 3
   },
   "file_extension": ".py",
   "mimetype": "text/x-python",
   "name": "python",
   "nbconvert_exporter": "python",
   "pygments_lexer": "ipython3",
   "version": "3.5.1"
  }
 },
 "nbformat": 4,
 "nbformat_minor": 0
}
