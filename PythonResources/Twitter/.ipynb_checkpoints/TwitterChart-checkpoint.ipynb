{
 "cells": [
  {
   "cell_type": "code",
   "execution_count": 5,
   "metadata": {
    "collapsed": false
   },
   "outputs": [
    {
     "name": "stdout",
     "output_type": "stream",
     "text": [
      "['RT', '@', 'csdhschn', ':', 'Today', ',', 'we', 'launch', '#', 'DiverseDH', ',', '&', 'amp', ';', 'we', 'are', 'asking', 'for', 'help', 'from', '#', 'digitalhumanities', 'folks', '!', 'Please', 'share', 'and', 'contribute', ':', 'https', ':', '//t.c…']\n",
      "['RT', '@csdhschn', ':', 'Today', ',', 'we', 'launch', '#DiverseDH', ',', '&', 'amp', ';', 'we', 'are', 'asking', 'for', 'help', 'from', '#digitalhumanities', 'folks', '!', 'Please', 'share', 'and', 'contribute', ':', 'https://t.c', '…']\n"
     ]
    }
   ],
   "source": [
    "#Task Description: load a corpus of tweets and print a barplot of the most frequently used terms\n",
    "\n",
    "#Open the file\n",
    "inFile = open('tweets-0001.json')\n",
    "#for line in inFile:\n",
    "#    print(line)\n",
    "\n",
    "#Load the data from the file into a variable\n",
    "import json\n",
    "\n",
    "line = inFile.readline() # read only the first tweet/line\n",
    "tweet = json.loads(line) # load it as Python dict\n",
    "#print(json.dumps(tweet, indent=4)) # pretty-print\n",
    "\n",
    "#Slice up the body text of the tweets\n",
    "from nltk.tokenize import word_tokenize\n",
    " \n",
    "#tweet = 'RT @marcobonzanini: just an example! :D http://example.com #NLP'\n",
    "print(word_tokenize(tweet['text'])) # chops up the tweet.  this is done badly.\n",
    "\n",
    "#Instantiate a text pre-processor\n",
    "import re\n",
    " \n",
    "emoticons_str = r\"\"\"\n",
    "    (?:\n",
    "        [:=;] # Eyes\n",
    "        [oO\\-]? # Nose (optional)\n",
    "        [D\\)\\]\\(\\]/\\\\OpP] # Mouth\n",
    "    )\"\"\"\n",
    " \n",
    "regex_str = [\n",
    "    emoticons_str,\n",
    "    r'<[^>]+>', # HTML tags\n",
    "    r'(?:@[\\w_]+)', # @-mentions\n",
    "    r\"(?:\\#+[\\w_]+[\\w\\'_\\-]*[\\w_]+)\", # hash-tags\n",
    "    r'http[s]?://(?:[a-z]|[0-9]|[$-_@.&+]|[!*\\(\\),]|(?:%[0-9a-f][0-9a-f]))+', # URLs\n",
    " \n",
    "    r'(?:(?:\\d+,?)+(?:\\.?\\d+)?)', # numbers\n",
    "    r\"(?:[a-z][a-z'\\-_]+[a-z])\", # words with - and '\n",
    "    r'(?:[\\w_]+)', # other words\n",
    "    r'(?:\\S)' # anything else\n",
    "]\n",
    "    \n",
    "tokens_re = re.compile(r'('+'|'.join(regex_str)+')', re.VERBOSE | re.IGNORECASE)\n",
    "emoticon_re = re.compile(r'^'+emoticons_str+'$', re.VERBOSE | re.IGNORECASE)\n",
    " \n",
    "def tokenize(s):\n",
    "    return tokens_re.findall(s)\n",
    " \n",
    "def preprocess(s, lowercase=False):\n",
    "    tokens = tokenize(s)\n",
    "    if lowercase:\n",
    "        tokens = [token if emoticon_re.search(token) else token.lower() for token in tokens]\n",
    "    return tokens\n",
    " \n",
    "print(preprocess(tweet['text']))\n",
    "\n",
    "\n",
    "#Count the terms\n",
    "\n",
    "#Produce the chart\n",
    "\n",
    "#Close everything\n",
    "inFile.close()"
   ]
  },
  {
   "cell_type": "code",
   "execution_count": null,
   "metadata": {
    "collapsed": true
   },
   "outputs": [],
   "source": []
  }
 ],
 "metadata": {
  "kernelspec": {
   "display_name": "Python 3",
   "language": "python",
   "name": "python3"
  },
  "language_info": {
   "codemirror_mode": {
    "name": "ipython",
    "version": 3
   },
   "file_extension": ".py",
   "mimetype": "text/x-python",
   "name": "python",
   "nbconvert_exporter": "python",
   "pygments_lexer": "ipython3",
   "version": "3.5.1"
  }
 },
 "nbformat": 4,
 "nbformat_minor": 0
}
