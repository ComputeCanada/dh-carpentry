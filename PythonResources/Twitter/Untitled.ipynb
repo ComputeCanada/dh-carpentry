{
 "cells": [
  {
   "cell_type": "code",
   "execution_count": 4,
   "metadata": {
    "collapsed": false
   },
   "outputs": [
    {
     "name": "stdout",
     "output_type": "stream",
     "text": [
      "RT @Eurekacamping: 3 Must Try Camping Quesadilla Recipes. Pictured here: the Pizza-dilla https://t.co/ov8eApspuJ  #eurekamoments https://t.…\n",
      "RT @HoratioTFrog: For #GoodTurnWeek we are making Mother's Day cards for a local women's shelter. Good turns w/@scoutscanada can be anythin…\n",
      "Announcement: The Translation Toolkit https://t.co/eC1RHALXeu\n",
      "Happy #WorldIPDay! Learn about the role of intellectual property rights https://t.co/4pLu3RX4I9  #ualberta https://t.co/1oqQ8FCnbq\n",
      "RT @bibliosaintjean: Exposition d'art \"Images of Research\" jusqu'au 30 mai. Pour plus d'infos: https://t.co/kst7JM5sQ9 @uofalibraries https…\n",
      "RT @libby_brooks: Take the time, when you can, to read this extraordinary piece of reporting from @david_conn on Hillsborough https://t.co/…\n",
      "RT @bellyofawhale: Hey guys, did I mention the new #yegwords sleeves are here? Featuring MacEwan writing students. https://t.co/PMgmzIPU80\n",
      "RT @p2173: “Metaphors of Data” reading list | Social Media Collective https://t.co/fVXRebV6JY @myen - this is great\n",
      "What we learned this year at #TIFFKidsIndustry: https://t.co/4irvJegLwq\n",
      "Who or what is Prager University? https://t.co/wXKZeTtERr https://t.co/gPyBO7U44w\n",
      "Chelsea Miya\n",
      "AuroraWatch\n",
      "Tamara MacInnis\n",
      "thatcamp\n",
      "Erica Dance\n",
      "matt dance\n",
      "Mike Driedger\n",
      "Paul R. Pival\n",
      "Scott Klein\n",
      "DHatGuelph\n"
     ]
    }
   ],
   "source": [
    "#tweepy can be installed with 'pip install tweepy'\n",
    "import tweepy\n",
    "from tweepy import OAuthHandler\n",
    " \n",
    "consumer_key = 'JFBHHPK5gzvcgfcThd8dqMUj0'\n",
    "consumer_secret = 'eN9TdGABP2it31cR9NMSMPF6F30JyO2z6lwNyK4qRKet1eMPkM'\n",
    "access_token = '557113581-2Wm1eSGxPjMJAdxEosMynGp9zFpfLJAYt8K4c6qG'\n",
    "access_secret = 'cFx6oqZRVC9dmtgygWACVsXAClZLG0OjVyY1jxCk0JY8c'\n",
    " \n",
    "auth = OAuthHandler(consumer_key, consumer_secret)\n",
    "auth.set_access_token(access_token, access_secret)\n",
    " \n",
    "api = tweepy.API(auth)\n",
    "\n",
    "for status in tweepy.Cursor(api.home_timeline).items(10):\n",
    "    # Process a single status\n",
    "    print(status.text)\n",
    "    \n",
    "for friend in tweepy.Cursor(api.friends).items(10):\n",
    "    print(friend.name)"
   ]
  },
  {
   "cell_type": "code",
   "execution_count": null,
   "metadata": {
    "collapsed": true
   },
   "outputs": [],
   "source": []
  }
 ],
 "metadata": {
  "kernelspec": {
   "display_name": "Python 3",
   "language": "python",
   "name": "python3"
  },
  "language_info": {
   "codemirror_mode": {
    "name": "ipython",
    "version": 3
   },
   "file_extension": ".py",
   "mimetype": "text/x-python",
   "name": "python",
   "nbconvert_exporter": "python",
   "pygments_lexer": "ipython3",
   "version": "3.5.1"
  }
 },
 "nbformat": 4,
 "nbformat_minor": 0
}
