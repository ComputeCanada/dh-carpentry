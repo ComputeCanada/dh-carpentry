{
 "cells": [
  {
   "cell_type": "code",
   "execution_count": null,
   "metadata": {
    "collapsed": true
   },
   "outputs": [],
   "source": []
  },
  {
   "cell_type": "markdown",
   "metadata": {},
   "source": [
    "# Snippets for practice\n",
    "These snippets/examples are shared to save typing and allow maximum play/tweaking time.  The snippets and examples are in raw text cells and should be copied into code cells to be used.  If you convert the raw cells to code cells and work directly in them then you will lose you clear"
   ]
  },
  {
   "cell_type": "markdown",
   "metadata": {},
   "source": [
    "### While loop example"
   ]
  },
  {
   "cell_type": "raw",
   "metadata": {},
   "source": [
    "fruit = 'banana'\n",
    "index = 0\n",
    "while index < len(fruit):\n",
    "    letter = fruit[index]\n",
    "    print(letter)\n",
    "    index = index + 1"
   ]
  },
  {
   "cell_type": "code",
   "execution_count": null,
   "metadata": {
    "collapsed": true
   },
   "outputs": [],
   "source": [
    "#copy and paste the example above here"
   ]
  },
  {
   "cell_type": "markdown",
   "metadata": {},
   "source": [
    "### for loop example"
   ]
  },
  {
   "cell_type": "raw",
   "metadata": {},
   "source": [
    "fruit = 'banana'\n",
    "for letter in fruit:\n",
    "    print(letter)"
   ]
  },
  {
   "cell_type": "code",
   "execution_count": null,
   "metadata": {
    "collapsed": true
   },
   "outputs": [],
   "source": [
    "#copy and paste the example above here"
   ]
  },
  {
   "cell_type": "markdown",
   "metadata": {},
   "source": [
    "### list starters"
   ]
  },
  {
   "cell_type": "raw",
   "metadata": {},
   "source": [
    "list1 = [\"hello\",\"world\",\"!\"]\n",
    "list2 = [5,4.0,\"wow\"]"
   ]
  },
  {
   "cell_type": "code",
   "execution_count": null,
   "metadata": {
    "collapsed": true
   },
   "outputs": [],
   "source": [
    "#copy and paste the example above here"
   ]
  },
  {
   "cell_type": "markdown",
   "metadata": {},
   "source": [
    "### dictionary starter"
   ]
  },
  {
   "cell_type": "raw",
   "metadata": {},
   "source": [
    "dict1 = {'one’:’un’,’two’:’deux’,’three’:’trois’}"
   ]
  },
  {
   "cell_type": "code",
   "execution_count": null,
   "metadata": {
    "collapsed": true
   },
   "outputs": [],
   "source": [
    "#copy and paste the example above here"
   ]
  },
  {
   "cell_type": "markdown",
   "metadata": {},
   "source": [
    "### conditional examples"
   ]
  },
  {
   "cell_type": "raw",
   "metadata": {},
   "source": [
    "x = 5\n",
    "y = 4\n",
    "\n",
    "if x < y:\n",
    "    print ‘x is less than y’"
   ]
  },
  {
   "cell_type": "code",
   "execution_count": null,
   "metadata": {
    "collapsed": true
   },
   "outputs": [],
   "source": [
    "#copy and paste the example above here"
   ]
  },
  {
   "cell_type": "raw",
   "metadata": {},
   "source": [
    "x = 5\n",
    "if 0 < x and x < 10:\n",
    "    print(\"x is a positive single digit number\")"
   ]
  },
  {
   "cell_type": "code",
   "execution_count": null,
   "metadata": {
    "collapsed": true
   },
   "outputs": [],
   "source": [
    "#copy and paste the example above here"
   ]
  },
  {
   "cell_type": "markdown",
   "metadata": {},
   "source": [
    "### method starters"
   ]
  },
  {
   "cell_type": "raw",
   "metadata": {},
   "source": [
    "list1 = [\"hello\",\"world\",\"!\"]\n",
    "list2 = [5,4.0,\"wow\"]\n",
    "string1 = \"hello world!\""
   ]
  },
  {
   "cell_type": "code",
   "execution_count": null,
   "metadata": {
    "collapsed": true
   },
   "outputs": [],
   "source": [
    "#copy and paste the example above here"
   ]
  },
  {
   "cell_type": "markdown",
   "metadata": {},
   "source": [
    "### Chart example"
   ]
  },
  {
   "cell_type": "raw",
   "metadata": {},
   "source": [
    "import matplotlib.pyplot as plt\n",
    "\n",
    "#special ipython/jupyter command that keeps the output in this window rather than opening another one.\n",
    "%matplotlib inline \n",
    "\n",
    "plt.figure()\n",
    "plt.plot([1, 2, 3, 4], [10, 20, 25, 30], color='lightblue', linewidth=3)\n",
    "plt.scatter([0.3, 3.8, 1.2, 2.5], [11, 25, 9, 26], color='darkgreen', marker='^')\n",
    "plt.bar([1,2,3,4],[12,3,25,18], width=0.2, align='center')\n",
    "plt.xlim(0.5, 4.5)\n",
    "plt.ylim(0,50)\n",
    "plt.show()"
   ]
  },
  {
   "cell_type": "code",
   "execution_count": null,
   "metadata": {
    "collapsed": true
   },
   "outputs": [],
   "source": [
    "#copy and paste the example above here"
   ]
  },
  {
   "cell_type": "markdown",
   "metadata": {},
   "source": [
    "### Optional/Extra: Pass by reference and pass by value example"
   ]
  },
  {
   "cell_type": "raw",
   "metadata": {
    "collapsed": false
   },
   "source": [
    "list1 = [\"hello\",\"world\",\"!\"]\n",
    "list2 = [5,4.0,\"wow\"]\n",
    "list3 = list1 + list2\n",
    "list4 = list1\n",
    "list4.append(list2)\n",
    "print(list3)\n",
    "print(list4)\n",
    "list1[0]=\"HELLO\"\n",
    "print(list3)\n",
    "print(list4)"
   ]
  },
  {
   "cell_type": "code",
   "execution_count": null,
   "metadata": {
    "collapsed": true
   },
   "outputs": [],
   "source": [
    "#copy and paste the example above here"
   ]
  }
 ],
 "metadata": {
  "kernelspec": {
   "display_name": "Python 3",
   "language": "python",
   "name": "python3"
  },
  "language_info": {
   "codemirror_mode": {
    "name": "ipython",
    "version": 3
   },
   "file_extension": ".py",
   "mimetype": "text/x-python",
   "name": "python",
   "nbconvert_exporter": "python",
   "pygments_lexer": "ipython3",
   "version": "3.5.1"
  }
 },
 "nbformat": 4,
 "nbformat_minor": 0
}
