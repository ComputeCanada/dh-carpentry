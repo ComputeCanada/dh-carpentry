{
 "cells": [
  {
   "cell_type": "code",
   "execution_count": null,
   "metadata": {
    "collapsed": false
   },
   "outputs": [],
   "source": [
    "#http://networkx.readthedocs.org/en/networkx-1.11/tutorial/tutorial.html\n",
    "\n",
    "#Create a graph\n",
    "import networkx as nx\n",
    "G=nx.Graph()\n",
    "#Add a single node\n",
    "G.add_node(1)\n",
    "#Add a list of nodes\n",
    "G.add_nodes_from([2,3])\n",
    "\n",
    "#Draw the graph\n",
    "import matplotlib.pyplot as plt\n",
    "%matplotlib inline\n",
    "nx.draw(G)\n",
    "plt.show()\n",
    "print(\"draw\")\n",
    "nx.draw_random(G)\n",
    "plt.show()\n",
    "print(\"random\")\n",
    "nx.draw_circular(G)\n",
    "plt.show()\n",
    "print(\"circular\")\n",
    "nx.draw_spectral(G)\n",
    "plt.show()\n",
    "print(\"spectral\")"
   ]
  },
  {
   "cell_type": "code",
   "execution_count": null,
   "metadata": {
    "collapsed": false
   },
   "outputs": [],
   "source": [
    "import tweepy\n",
    "#tweepy can be installed with 'pip install tweepy'"
   ]
  },
  {
   "cell_type": "code",
   "execution_count": null,
   "metadata": {
    "collapsed": true
   },
   "outputs": [],
   "source": []
  }
 ],
 "metadata": {
  "kernelspec": {
   "display_name": "Python 3",
   "language": "python",
   "name": "python3"
  },
  "language_info": {
   "codemirror_mode": {
    "name": "ipython",
    "version": 3
   },
   "file_extension": ".py",
   "mimetype": "text/x-python",
   "name": "python",
   "nbconvert_exporter": "python",
   "pygments_lexer": "ipython3",
   "version": "3.5.1"
  }
 },
 "nbformat": 4,
 "nbformat_minor": 0
}
